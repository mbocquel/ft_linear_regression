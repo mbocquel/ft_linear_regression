{
 "cells": [
  {
   "cell_type": "code",
   "execution_count": 47,
   "id": "fe9c0c0a-3cc1-46f5-a026-cd0bb27d8d3b",
   "metadata": {},
   "outputs": [],
   "source": [
    "import pandas as pd\n",
    "import matplotlib.pyplot as plt\n",
    "import numpy as np"
   ]
  },
  {
   "cell_type": "code",
   "execution_count": 10,
   "id": "cf9ab537-7ccc-48de-976a-f43c937d7a90",
   "metadata": {},
   "outputs": [],
   "source": [
    "def load(path: str) -> pd.DataFrame | None:\n",
    "    \"\"\"\n",
    "    Function that load data from a csv file and return the panda dataFrame\n",
    "    Return None if there was a problem\n",
    "    \"\"\"\n",
    "    try:\n",
    "        df = pd.read_csv(path)\n",
    "        print(\"Loading dataset of dimensions\", df.shape)\n",
    "        return (df)\n",
    "    except Exception as e:\n",
    "        print(e)\n",
    "        return None\n",
    "\n"
   ]
  },
  {
   "cell_type": "code",
   "execution_count": 11,
   "id": "6261b564-a942-446b-9f65-f96001c826c6",
   "metadata": {},
   "outputs": [
    {
     "name": "stdout",
     "output_type": "stream",
     "text": [
      "Loading dataset of dimensions (24, 2)\n"
     ]
    }
   ],
   "source": [
    "df = load(\"data.csv\", )"
   ]
  },
  {
   "cell_type": "code",
   "execution_count": 12,
   "id": "9881a5d4-15d9-4a7d-893c-67a990c4b300",
   "metadata": {},
   "outputs": [
    {
     "data": {
      "text/html": [
       "<div>\n",
       "<style scoped>\n",
       "    .dataframe tbody tr th:only-of-type {\n",
       "        vertical-align: middle;\n",
       "    }\n",
       "\n",
       "    .dataframe tbody tr th {\n",
       "        vertical-align: top;\n",
       "    }\n",
       "\n",
       "    .dataframe thead th {\n",
       "        text-align: right;\n",
       "    }\n",
       "</style>\n",
       "<table border=\"1\" class=\"dataframe\">\n",
       "  <thead>\n",
       "    <tr style=\"text-align: right;\">\n",
       "      <th></th>\n",
       "      <th>km</th>\n",
       "      <th>price</th>\n",
       "    </tr>\n",
       "  </thead>\n",
       "  <tbody>\n",
       "    <tr>\n",
       "      <th>0</th>\n",
       "      <td>240000</td>\n",
       "      <td>3650</td>\n",
       "    </tr>\n",
       "    <tr>\n",
       "      <th>1</th>\n",
       "      <td>139800</td>\n",
       "      <td>3800</td>\n",
       "    </tr>\n",
       "    <tr>\n",
       "      <th>2</th>\n",
       "      <td>150500</td>\n",
       "      <td>4400</td>\n",
       "    </tr>\n",
       "    <tr>\n",
       "      <th>3</th>\n",
       "      <td>185530</td>\n",
       "      <td>4450</td>\n",
       "    </tr>\n",
       "    <tr>\n",
       "      <th>4</th>\n",
       "      <td>176000</td>\n",
       "      <td>5250</td>\n",
       "    </tr>\n",
       "    <tr>\n",
       "      <th>5</th>\n",
       "      <td>114800</td>\n",
       "      <td>5350</td>\n",
       "    </tr>\n",
       "    <tr>\n",
       "      <th>6</th>\n",
       "      <td>166800</td>\n",
       "      <td>5800</td>\n",
       "    </tr>\n",
       "    <tr>\n",
       "      <th>7</th>\n",
       "      <td>89000</td>\n",
       "      <td>5990</td>\n",
       "    </tr>\n",
       "    <tr>\n",
       "      <th>8</th>\n",
       "      <td>144500</td>\n",
       "      <td>5999</td>\n",
       "    </tr>\n",
       "    <tr>\n",
       "      <th>9</th>\n",
       "      <td>84000</td>\n",
       "      <td>6200</td>\n",
       "    </tr>\n",
       "    <tr>\n",
       "      <th>10</th>\n",
       "      <td>82029</td>\n",
       "      <td>6390</td>\n",
       "    </tr>\n",
       "    <tr>\n",
       "      <th>11</th>\n",
       "      <td>63060</td>\n",
       "      <td>6390</td>\n",
       "    </tr>\n",
       "    <tr>\n",
       "      <th>12</th>\n",
       "      <td>74000</td>\n",
       "      <td>6600</td>\n",
       "    </tr>\n",
       "    <tr>\n",
       "      <th>13</th>\n",
       "      <td>97500</td>\n",
       "      <td>6800</td>\n",
       "    </tr>\n",
       "    <tr>\n",
       "      <th>14</th>\n",
       "      <td>67000</td>\n",
       "      <td>6800</td>\n",
       "    </tr>\n",
       "    <tr>\n",
       "      <th>15</th>\n",
       "      <td>76025</td>\n",
       "      <td>6900</td>\n",
       "    </tr>\n",
       "    <tr>\n",
       "      <th>16</th>\n",
       "      <td>48235</td>\n",
       "      <td>6900</td>\n",
       "    </tr>\n",
       "    <tr>\n",
       "      <th>17</th>\n",
       "      <td>93000</td>\n",
       "      <td>6990</td>\n",
       "    </tr>\n",
       "    <tr>\n",
       "      <th>18</th>\n",
       "      <td>60949</td>\n",
       "      <td>7490</td>\n",
       "    </tr>\n",
       "    <tr>\n",
       "      <th>19</th>\n",
       "      <td>65674</td>\n",
       "      <td>7555</td>\n",
       "    </tr>\n",
       "    <tr>\n",
       "      <th>20</th>\n",
       "      <td>54000</td>\n",
       "      <td>7990</td>\n",
       "    </tr>\n",
       "    <tr>\n",
       "      <th>21</th>\n",
       "      <td>68500</td>\n",
       "      <td>7990</td>\n",
       "    </tr>\n",
       "    <tr>\n",
       "      <th>22</th>\n",
       "      <td>22899</td>\n",
       "      <td>7990</td>\n",
       "    </tr>\n",
       "    <tr>\n",
       "      <th>23</th>\n",
       "      <td>61789</td>\n",
       "      <td>8290</td>\n",
       "    </tr>\n",
       "  </tbody>\n",
       "</table>\n",
       "</div>"
      ],
      "text/plain": [
       "        km  price\n",
       "0   240000   3650\n",
       "1   139800   3800\n",
       "2   150500   4400\n",
       "3   185530   4450\n",
       "4   176000   5250\n",
       "5   114800   5350\n",
       "6   166800   5800\n",
       "7    89000   5990\n",
       "8   144500   5999\n",
       "9    84000   6200\n",
       "10   82029   6390\n",
       "11   63060   6390\n",
       "12   74000   6600\n",
       "13   97500   6800\n",
       "14   67000   6800\n",
       "15   76025   6900\n",
       "16   48235   6900\n",
       "17   93000   6990\n",
       "18   60949   7490\n",
       "19   65674   7555\n",
       "20   54000   7990\n",
       "21   68500   7990\n",
       "22   22899   7990\n",
       "23   61789   8290"
      ]
     },
     "execution_count": 12,
     "metadata": {},
     "output_type": "execute_result"
    }
   ],
   "source": [
    "df"
   ]
  },
  {
   "cell_type": "code",
   "execution_count": 15,
   "id": "b3bea5eb-bcd4-49af-a725-1a636666f026",
   "metadata": {},
   "outputs": [],
   "source": [
    "mileage = df.loc[:,'km']"
   ]
  },
  {
   "cell_type": "code",
   "execution_count": 16,
   "id": "c29446b0-7b7e-474a-bb69-7a90272ca132",
   "metadata": {},
   "outputs": [
    {
     "data": {
      "text/plain": [
       "0     240000\n",
       "1     139800\n",
       "2     150500\n",
       "3     185530\n",
       "4     176000\n",
       "5     114800\n",
       "6     166800\n",
       "7      89000\n",
       "8     144500\n",
       "9      84000\n",
       "10     82029\n",
       "11     63060\n",
       "12     74000\n",
       "13     97500\n",
       "14     67000\n",
       "15     76025\n",
       "16     48235\n",
       "17     93000\n",
       "18     60949\n",
       "19     65674\n",
       "20     54000\n",
       "21     68500\n",
       "22     22899\n",
       "23     61789\n",
       "Name: km, dtype: int64"
      ]
     },
     "execution_count": 16,
     "metadata": {},
     "output_type": "execute_result"
    }
   ],
   "source": [
    "mileage"
   ]
  },
  {
   "cell_type": "code",
   "execution_count": 17,
   "id": "9842d361-afaf-4414-a17f-fca2d2bf9e16",
   "metadata": {},
   "outputs": [],
   "source": [
    "price = df.loc[:,'price']"
   ]
  },
  {
   "cell_type": "code",
   "execution_count": 18,
   "id": "91d291a8-0e7e-40ee-b3b7-70aabe71fec6",
   "metadata": {},
   "outputs": [
    {
     "data": {
      "text/plain": [
       "0     3650\n",
       "1     3800\n",
       "2     4400\n",
       "3     4450\n",
       "4     5250\n",
       "5     5350\n",
       "6     5800\n",
       "7     5990\n",
       "8     5999\n",
       "9     6200\n",
       "10    6390\n",
       "11    6390\n",
       "12    6600\n",
       "13    6800\n",
       "14    6800\n",
       "15    6900\n",
       "16    6900\n",
       "17    6990\n",
       "18    7490\n",
       "19    7555\n",
       "20    7990\n",
       "21    7990\n",
       "22    7990\n",
       "23    8290\n",
       "Name: price, dtype: int64"
      ]
     },
     "execution_count": 18,
     "metadata": {},
     "output_type": "execute_result"
    }
   ],
   "source": [
    "price"
   ]
  },
  {
   "cell_type": "code",
   "execution_count": 21,
   "id": "90eb6d20-7251-4475-8630-404833d5b44e",
   "metadata": {},
   "outputs": [
    {
     "data": {
      "image/png": "[encoded data removed]",
      "text/plain": [
       "<Figure size 640x480 with 1 Axes>"
      ]
     },
     "metadata": {},
     "output_type": "display_data"
    }
   ],
   "source": [
    "plt.plot(mileage, price, 'o')\n",
    "plt.xlabel(\"Mileage\")\n",
    "plt.ylabel(\"Price\")\n",
    "plt.title(\"Price of car evolution with mileage\")\n",
    "plt.show()"
   ]
  },
  {
   "cell_type": "code",
   "execution_count": 23,
   "id": "3495b442-7b05-4107-931c-15a438cde1fe",
   "metadata": {},
   "outputs": [],
   "source": [
    "theta1 = 0"
   ]
  },
  {
   "cell_type": "code",
   "execution_count": 24,
   "id": "30616f20-0541-4928-9faa-e2d033ed783f",
   "metadata": {},
   "outputs": [],
   "source": [
    "theta0 = 0"
   ]
  },
  {
   "cell_type": "code",
   "execution_count": 25,
   "id": "f661c68b-e532-473d-8c83-50472d4439eb",
   "metadata": {},
   "outputs": [
    {
     "data": {
      "text/plain": [
       "0     3650\n",
       "1     3800\n",
       "2     4400\n",
       "3     4450\n",
       "4     5250\n",
       "5     5350\n",
       "6     5800\n",
       "7     5990\n",
       "8     5999\n",
       "9     6200\n",
       "10    6390\n",
       "11    6390\n",
       "12    6600\n",
       "13    6800\n",
       "14    6800\n",
       "15    6900\n",
       "16    6900\n",
       "17    6990\n",
       "18    7490\n",
       "19    7555\n",
       "20    7990\n",
       "21    7990\n",
       "22    7990\n",
       "23    8290\n",
       "Name: price, dtype: int64"
      ]
     },
     "execution_count": 25,
     "metadata": {},
     "output_type": "execute_result"
    }
   ],
   "source": [
    "price"
   ]
  },
  {
   "cell_type": "code",
   "execution_count": 26,
   "id": "4aae6579-98bf-432c-8bcb-d41379968f4d",
   "metadata": {},
   "outputs": [
    {
     "data": {
      "text/plain": [
       "0     0\n",
       "1     0\n",
       "2     0\n",
       "3     0\n",
       "4     0\n",
       "5     0\n",
       "6     0\n",
       "7     0\n",
       "8     0\n",
       "9     0\n",
       "10    0\n",
       "11    0\n",
       "12    0\n",
       "13    0\n",
       "14    0\n",
       "15    0\n",
       "16    0\n",
       "17    0\n",
       "18    0\n",
       "19    0\n",
       "20    0\n",
       "21    0\n",
       "22    0\n",
       "23    0\n",
       "Name: km, dtype: int64"
      ]
     },
     "execution_count": 26,
     "metadata": {},
     "output_type": "execute_result"
    }
   ],
   "source": [
    "mileage * theta1"
   ]
  },
  {
   "cell_type": "code",
   "execution_count": 27,
   "id": "59ba6737-dfed-4435-bc83-5e494a5f9955",
   "metadata": {},
   "outputs": [
    {
     "data": {
      "text/plain": [
       "2425590"
      ]
     },
     "execution_count": 27,
     "metadata": {},
     "output_type": "execute_result"
    }
   ],
   "source": [
    "sum(mileage)"
   ]
  },
  {
   "cell_type": "code",
   "execution_count": 32,
   "id": "133e0758-5c37-478e-a810-15314ae1f8e4",
   "metadata": {},
   "outputs": [],
   "source": [
    "def calculateCostSquareError(theta0: float, theta1:float, df:pd.DataFrame) -> float:\n",
    "    mileage = df.loc[:,'km']\n",
    "    price = df.loc[:,'price']\n",
    "    return(1/(2*len(df)) * sum((theta1*mileage + theta0 - price)**2))"
   ]
  },
  {
   "cell_type": "code",
   "execution_count": 33,
   "id": "95776f08-feb5-4c33-95e6-b763f7582938",
   "metadata": {},
   "outputs": [
    {
     "data": {
      "text/plain": [
       "24"
      ]
     },
     "execution_count": 33,
     "metadata": {},
     "output_type": "execute_result"
    }
   ],
   "source": [
    "len(mileage)"
   ]
  },
  {
   "cell_type": "code",
   "execution_count": 42,
   "id": "923d9ebb-c650-48c2-8126-51e068f5607a",
   "metadata": {},
   "outputs": [
    {
     "data": {
      "text/plain": [
       "287974.2732499999"
      ]
     },
     "execution_count": 42,
     "metadata": {},
     "output_type": "execute_result"
    }
   ],
   "source": [
    "calculateCostSquareError(8000, -0.02, df)"
   ]
  },
  {
   "cell_type": "code",
   "execution_count": 37,
   "id": "edb5fa44-e78c-44d6-a1ba-625c2e1b4022",
   "metadata": {},
   "outputs": [
    {
     "data": {
      "text/plain": [
       "20880519.291666664"
      ]
     },
     "execution_count": 37,
     "metadata": {},
     "output_type": "execute_result"
    }
   ],
   "source": [
    "calculateCostSquareError(0, 0, df)"
   ]
  },
  {
   "cell_type": "code",
   "execution_count": 43,
   "id": "2c9d8a1f-b6e2-40bb-9327-6b1e046b01ec",
   "metadata": {},
   "outputs": [
    {
     "data": {
      "text/plain": [
       "22899"
      ]
     },
     "execution_count": 43,
     "metadata": {},
     "output_type": "execute_result"
    }
   ],
   "source": [
    "min(mileage)"
   ]
  },
  {
   "cell_type": "code",
   "execution_count": 44,
   "id": "4cf060b6-449d-4e3b-942c-3b1a9ac36459",
   "metadata": {},
   "outputs": [
    {
     "data": {
      "text/plain": [
       "240000"
      ]
     },
     "execution_count": 44,
     "metadata": {},
     "output_type": "execute_result"
    }
   ],
   "source": [
    "max(mileage)"
   ]
  },
  {
   "cell_type": "code",
   "execution_count": 72,
   "id": "ef06b22f-cbd9-4142-a956-ac83b8a5fe04",
   "metadata": {},
   "outputs": [],
   "source": [
    "def plotDataSetAndRegLin(mileage, price, theta0, theta1):\n",
    "    x = np.linspace(min(mileage), max(mileage), 2)\n",
    "    fig, ax = plt.subplots()\n",
    "    plt.plot(mileage, price, 'o')\n",
    "    plt.plot(x, theta1*x + theta0, 'r' ,  label=\"Reg Linear\")\n",
    "    plt.xlabel(\"Mileage\")\n",
    "    plt.ylabel(\"Price\")\n",
    "    plt.title(\"Evolution of the price of car with mileage\")\n",
    "    plt.legend()\n",
    "    plt.show()"
   ]
  },
  {
   "cell_type": "code",
   "execution_count": 73,
   "id": "7f2df4c8-c27f-463b-a878-471c10a6708c",
   "metadata": {},
   "outputs": [
    {
     "data": {
      "image/png": "[encoded data removed]",
      "text/plain": [
       "<Figure size 640x480 with 1 Axes>"
      ]
     },
     "metadata": {},
     "output_type": "display_data"
    }
   ],
   "source": [
    "plotDataSetAndRegLin(mileage, price, theta0, theta1)"
   ]
  },
  {
   "cell_type": "code",
   "execution_count": 74,
   "id": "d96c2bbb-a618-4cfb-b483-4042e7657997",
   "metadata": {},
   "outputs": [],
   "source": [
    "theta0 = 8000"
   ]
  },
  {
   "cell_type": "code",
   "execution_count": 75,
   "id": "4e328dd6-5706-455e-9612-81b2842f49a3",
   "metadata": {},
   "outputs": [],
   "source": [
    "theta1 = -0.02"
   ]
  },
  {
   "cell_type": "code",
   "execution_count": 76,
   "id": "3ef2b225-1eb0-429e-b982-2264c5ce0bcd",
   "metadata": {},
   "outputs": [
    {
     "data": {
      "image/png": "[encoded data removed]",
      "text/plain": [
       "<Figure size 640x480 with 1 Axes>"
      ]
     },
     "metadata": {},
     "output_type": "display_data"
    }
   ],
   "source": [
    "plotDataSetAndRegLin(mileage, price, theta0, theta1)"
   ]
  },
  {
   "cell_type": "code",
   "execution_count": 89,
   "id": "2eaf568f-ea30-48ce-a8c2-7abfe04483d4",
   "metadata": {},
   "outputs": [],
   "source": [
    "alpha = 0.01"
   ]
  },
  {
   "cell_type": "code",
   "execution_count": 87,
   "id": "008adce6-48a0-495f-a737-e9e962b01d73",
   "metadata": {},
   "outputs": [
    {
     "data": {
      "text/plain": [
       "-6331.833333333333"
      ]
     },
     "execution_count": 87,
     "metadata": {},
     "output_type": "execute_result"
    }
   ],
   "source": [
    "sum(theta1 * mileage + theta0 - price)/24"
   ]
  },
  {
   "cell_type": "code",
   "execution_count": 83,
   "id": "1d141196-df36-404f-b47c-b5cdcc58b002",
   "metadata": {},
   "outputs": [],
   "source": [
    "theta1 = 0"
   ]
  },
  {
   "cell_type": "code",
   "execution_count": 84,
   "id": "4e6388eb-27a5-4475-8a4e-783383ed01db",
   "metadata": {},
   "outputs": [],
   "source": [
    "theta0 = 0"
   ]
  },
  {
   "cell_type": "code",
   "execution_count": 92,
   "id": "d74b26d9-b49e-4f61-897b-0047f8646286",
   "metadata": {},
   "outputs": [],
   "source": [
    "temptheta0 = theta0 - alpha * (1/len(mileage)) * sum(theta1 * mileage + theta0 - price)"
   ]
  },
  {
   "cell_type": "code",
   "execution_count": 91,
   "id": "85edf00b-335d-45de-81ae-a74b53548a78",
   "metadata": {},
   "outputs": [
    {
     "data": {
      "text/plain": [
       "63.31833333333333"
      ]
     },
     "execution_count": 91,
     "metadata": {},
     "output_type": "execute_result"
    }
   ],
   "source": [
    "temptheta0"
   ]
  },
  {
   "cell_type": "code",
   "execution_count": 93,
   "id": "a7838f84-6133-4232-9138-fa28a3204710",
   "metadata": {},
   "outputs": [
    {
     "data": {
      "text/plain": [
       "0    -876000000\n",
       "1    -531240000\n",
       "2    -662200000\n",
       "3    -825608500\n",
       "4    -924000000\n",
       "5    -614180000\n",
       "6    -967440000\n",
       "7    -533110000\n",
       "8    -866855500\n",
       "9    -520800000\n",
       "10   -524165310\n",
       "11   -402953400\n",
       "12   -488400000\n",
       "13   -663000000\n",
       "14   -455600000\n",
       "15   -524572500\n",
       "16   -332821500\n",
       "17   -650070000\n",
       "18   -456508010\n",
       "19   -496167070\n",
       "20   -431460000\n",
       "21   -547315000\n",
       "22   -182963010\n",
       "23   -512230810\n",
       "dtype: int64"
      ]
     },
     "execution_count": 93,
     "metadata": {},
     "output_type": "execute_result"
    }
   ],
   "source": [
    "(theta1 * mileage + theta0 - price) * mileage"
   ]
  },
  {
   "cell_type": "code",
   "execution_count": 95,
   "id": "f783c143-c7f9-4727-ad94-3247d14240f2",
   "metadata": {},
   "outputs": [],
   "source": [
    "temptheta1 = theta1 - alpha * (1/len(mileage)) * sum((theta1 * mileage + theta0 - price) * mileage)"
   ]
  },
  {
   "cell_type": "code",
   "execution_count": 96,
   "id": "bf5875d5-490c-4e6b-a0d8-3c7e20d704f7",
   "metadata": {},
   "outputs": [
    {
     "data": {
      "text/plain": [
       "5829025.254166666"
      ]
     },
     "execution_count": 96,
     "metadata": {},
     "output_type": "execute_result"
    }
   ],
   "source": [
    "temptheta1"
   ]
  },
  {
   "cell_type": "code",
   "execution_count": 97,
   "id": "048bc0b5-4a45-4c3e-a926-c88cbf5911b0",
   "metadata": {},
   "outputs": [],
   "source": [
    "theta1 = temptheta1"
   ]
  },
  {
   "cell_type": "code",
   "execution_count": 98,
   "id": "8a8664e4-26a5-43e9-a3c2-da23f4f9059d",
   "metadata": {},
   "outputs": [],
   "source": [
    "theta0 = temptheta0"
   ]
  },
  {
   "cell_type": "code",
   "execution_count": 103,
   "id": "f8d3aa95-8f2a-4fb6-97eb-5b7589d94c25",
   "metadata": {},
   "outputs": [],
   "source": [
    "result = pd.DataFrame(columns=['theta0', 'theta1'])"
   ]
  },
  {
   "cell_type": "code",
   "execution_count": 104,
   "id": "df57ce0d-91be-41fb-84b2-62ad0a74b3ca",
   "metadata": {},
   "outputs": [
    {
     "data": {
      "text/html": [
       "<div>\n",
       "<style scoped>\n",
       "    .dataframe tbody tr th:only-of-type {\n",
       "        vertical-align: middle;\n",
       "    }\n",
       "\n",
       "    .dataframe tbody tr th {\n",
       "        vertical-align: top;\n",
       "    }\n",
       "\n",
       "    .dataframe thead th {\n",
       "        text-align: right;\n",
       "    }\n",
       "</style>\n",
       "<table border=\"1\" class=\"dataframe\">\n",
       "  <thead>\n",
       "    <tr style=\"text-align: right;\">\n",
       "      <th></th>\n",
       "      <th>theta0</th>\n",
       "      <th>theta1</th>\n",
       "    </tr>\n",
       "  </thead>\n",
       "  <tbody>\n",
       "  </tbody>\n",
       "</table>\n",
       "</div>"
      ],
      "text/plain": [
       "Empty DataFrame\n",
       "Columns: [theta0, theta1]\n",
       "Index: []"
      ]
     },
     "execution_count": 104,
     "metadata": {},
     "output_type": "execute_result"
    }
   ],
   "source": [
    "result"
   ]
  },
  {
   "cell_type": "code",
   "execution_count": 105,
   "id": "d3160a1a-0481-47c0-bccb-71bbf406414d",
   "metadata": {},
   "outputs": [],
   "source": [
    "list_row = [27000, 2000]\n",
    "result.loc[len(result)] = list_row\n"
   ]
  },
  {
   "cell_type": "code",
   "execution_count": 107,
   "id": "13bfb7d9-e3f9-4b4e-9bf9-fc385bf02811",
   "metadata": {},
   "outputs": [
    {
     "data": {
      "text/html": [
       "<div>\n",
       "<style scoped>\n",
       "    .dataframe tbody tr th:only-of-type {\n",
       "        vertical-align: middle;\n",
       "    }\n",
       "\n",
       "    .dataframe tbody tr th {\n",
       "        vertical-align: top;\n",
       "    }\n",
       "\n",
       "    .dataframe thead th {\n",
       "        text-align: right;\n",
       "    }\n",
       "</style>\n",
       "<table border=\"1\" class=\"dataframe\">\n",
       "  <thead>\n",
       "    <tr style=\"text-align: right;\">\n",
       "      <th></th>\n",
       "      <th>theta0</th>\n",
       "      <th>theta1</th>\n",
       "    </tr>\n",
       "  </thead>\n",
       "  <tbody>\n",
       "    <tr>\n",
       "      <th>0</th>\n",
       "      <td>27000</td>\n",
       "      <td>2000</td>\n",
       "    </tr>\n",
       "  </tbody>\n",
       "</table>\n",
       "</div>"
      ],
      "text/plain": [
       "   theta0  theta1\n",
       "0   27000    2000"
      ]
     },
     "execution_count": 107,
     "metadata": {},
     "output_type": "execute_result"
    }
   ],
   "source": [
    "result"
   ]
  },
  {
   "cell_type": "code",
   "execution_count": 108,
   "id": "2acfea44-5839-4c9d-8ce9-ece80e1374d2",
   "metadata": {},
   "outputs": [
    {
     "name": "stdout",
     "output_type": "stream",
     "text": [
      "Loading dataset of dimensions (24, 2)\n",
      "-0.02\n"
     ]
    }
   ],
   "source": [
    "df = load(\"data.csv\")\n",
    "mileage = df.loc[:,'km']\n",
    "price = df.loc[:,'price']\n",
    "theta0 = 8000\n",
    "theta1 = -1/50\n",
    "alpha = 0.01\n",
    "print(theta1)\n",
    "result = pd.DataFrame(columns=['theta0', 'theta1', \"cost\"])\n",
    "result.loc[len(result)] = [theta0, theta1, calculateCostSquareError(theta0, theta1, df)]"
   ]
  },
  {
   "cell_type": "code",
   "execution_count": 109,
   "id": "fc50b279-dc4e-4e2f-8802-ed310f7bf35d",
   "metadata": {},
   "outputs": [
    {
     "data": {
      "text/html": [
       "<div>\n",
       "<style scoped>\n",
       "    .dataframe tbody tr th:only-of-type {\n",
       "        vertical-align: middle;\n",
       "    }\n",
       "\n",
       "    .dataframe tbody tr th {\n",
       "        vertical-align: top;\n",
       "    }\n",
       "\n",
       "    .dataframe thead th {\n",
       "        text-align: right;\n",
       "    }\n",
       "</style>\n",
       "<table border=\"1\" class=\"dataframe\">\n",
       "  <thead>\n",
       "    <tr style=\"text-align: right;\">\n",
       "      <th></th>\n",
       "      <th>theta0</th>\n",
       "      <th>theta1</th>\n",
       "      <th>cost</th>\n",
       "    </tr>\n",
       "  </thead>\n",
       "  <tbody>\n",
       "    <tr>\n",
       "      <th>0</th>\n",
       "      <td>8000.0</td>\n",
       "      <td>-0.02</td>\n",
       "      <td>287974.27325</td>\n",
       "    </tr>\n",
       "  </tbody>\n",
       "</table>\n",
       "</div>"
      ],
      "text/plain": [
       "   theta0  theta1          cost\n",
       "0  8000.0   -0.02  287974.27325"
      ]
     },
     "execution_count": 109,
     "metadata": {},
     "output_type": "execute_result"
    }
   ],
   "source": [
    "result"
   ]
  },
  {
   "cell_type": "code",
   "execution_count": 119,
   "id": "23dc6687-dac9-4984-ad33-00d17931fdb6",
   "metadata": {},
   "outputs": [],
   "source": [
    "def updateParams(mileage, price, theta0, theta1, alpha):\n",
    "    temptheta0 = theta0 - alpha * (1/len(mileage)) * sum(theta1 * mileage + theta0 - price)\n",
    "    temptheta1 = theta1 - alpha * (1/len(mileage)) * sum((theta1 * mileage + theta0 - price) @ mileage)\n",
    "    theta0 = temptheta0\n",
    "    theta1 = temptheta1\n",
    "    return (theta0, theta1)\n"
   ]
  },
  {
   "cell_type": "code",
   "execution_count": 120,
   "id": "2d43f9a9-4589-4724-b1ab-5b319ba6922e",
   "metadata": {},
   "outputs": [
    {
     "data": {
      "text/plain": [
       "0     240000\n",
       "1     139800\n",
       "2     150500\n",
       "3     185530\n",
       "4     176000\n",
       "5     114800\n",
       "6     166800\n",
       "7      89000\n",
       "8     144500\n",
       "9      84000\n",
       "10     82029\n",
       "11     63060\n",
       "12     74000\n",
       "13     97500\n",
       "14     67000\n",
       "15     76025\n",
       "16     48235\n",
       "17     93000\n",
       "18     60949\n",
       "19     65674\n",
       "20     54000\n",
       "21     68500\n",
       "22     22899\n",
       "23     61789\n",
       "Name: km, dtype: int64"
      ]
     },
     "execution_count": 120,
     "metadata": {},
     "output_type": "execute_result"
    }
   ],
   "source": [
    "mileage"
   ]
  },
  {
   "cell_type": "code",
   "execution_count": 121,
   "id": "7bb20587-a221-4093-b79a-60b75e147ec1",
   "metadata": {},
   "outputs": [
    {
     "data": {
      "text/plain": [
       "0     3650\n",
       "1     3800\n",
       "2     4400\n",
       "3     4450\n",
       "4     5250\n",
       "5     5350\n",
       "6     5800\n",
       "7     5990\n",
       "8     5999\n",
       "9     6200\n",
       "10    6390\n",
       "11    6390\n",
       "12    6600\n",
       "13    6800\n",
       "14    6800\n",
       "15    6900\n",
       "16    6900\n",
       "17    6990\n",
       "18    7490\n",
       "19    7555\n",
       "20    7990\n",
       "21    7990\n",
       "22    7990\n",
       "23    8290\n",
       "Name: price, dtype: int64"
      ]
     },
     "execution_count": 121,
     "metadata": {},
     "output_type": "execute_result"
    }
   ],
   "source": [
    "price"
   ]
  },
  {
   "cell_type": "code",
   "execution_count": 122,
   "id": "2874546b-0db2-4ef2-afd6-04f533becda6",
   "metadata": {},
   "outputs": [
    {
     "data": {
      "text/plain": [
       "24"
      ]
     },
     "execution_count": 122,
     "metadata": {},
     "output_type": "execute_result"
    }
   ],
   "source": [
    "len(mileage)"
   ]
  },
  {
   "cell_type": "code",
   "execution_count": 123,
   "id": "46cf25be-dc5f-40d3-9f94-18f751ed9173",
   "metadata": {},
   "outputs": [
    {
     "data": {
      "text/plain": [
       "0    -4800.00\n",
       "1    -2796.00\n",
       "2    -3010.00\n",
       "3    -3710.60\n",
       "4    -3520.00\n",
       "5    -2296.00\n",
       "6    -3336.00\n",
       "7    -1780.00\n",
       "8    -2890.00\n",
       "9    -1680.00\n",
       "10   -1640.58\n",
       "11   -1261.20\n",
       "12   -1480.00\n",
       "13   -1950.00\n",
       "14   -1340.00\n",
       "15   -1520.50\n",
       "16    -964.70\n",
       "17   -1860.00\n",
       "18   -1218.98\n",
       "19   -1313.48\n",
       "20   -1080.00\n",
       "21   -1370.00\n",
       "22    -457.98\n",
       "23   -1235.78\n",
       "Name: km, dtype: float64"
      ]
     },
     "execution_count": 123,
     "metadata": {},
     "output_type": "execute_result"
    }
   ],
   "source": [
    "theta1 * mileage"
   ]
  },
  {
   "cell_type": "code",
   "execution_count": 124,
   "id": "0e0eefbc-c041-40cf-8488-94488e03f45c",
   "metadata": {},
   "outputs": [
    {
     "data": {
      "text/plain": [
       "-0.02"
      ]
     },
     "execution_count": 124,
     "metadata": {},
     "output_type": "execute_result"
    }
   ],
   "source": [
    "theta1"
   ]
  },
  {
   "cell_type": "code",
   "execution_count": 117,
   "id": "e1e87f9d-5b08-4b42-a5dd-46470a0e4bb9",
   "metadata": {},
   "outputs": [
    {
     "data": {
      "text/plain": [
       "0     3200.00\n",
       "1     5204.00\n",
       "2     4990.00\n",
       "3     4289.40\n",
       "4     4480.00\n",
       "5     5704.00\n",
       "6     4664.00\n",
       "7     6220.00\n",
       "8     5110.00\n",
       "9     6320.00\n",
       "10    6359.42\n",
       "11    6738.80\n",
       "12    6520.00\n",
       "13    6050.00\n",
       "14    6660.00\n",
       "15    6479.50\n",
       "16    7035.30\n",
       "17    6140.00\n",
       "18    6781.02\n",
       "19    6686.52\n",
       "20    6920.00\n",
       "21    6630.00\n",
       "22    7542.02\n",
       "23    6764.22\n",
       "Name: km, dtype: float64"
      ]
     },
     "execution_count": 117,
     "metadata": {},
     "output_type": "execute_result"
    }
   ],
   "source": [
    "theta1 * mileage + theta0 "
   ]
  },
  {
   "cell_type": "code",
   "execution_count": 118,
   "id": "fc1519e7-1ae8-4144-b5bf-905c36bf1b00",
   "metadata": {},
   "outputs": [
    {
     "data": {
      "text/plain": [
       "8000"
      ]
     },
     "execution_count": 118,
     "metadata": {},
     "output_type": "execute_result"
    }
   ],
   "source": [
    "theta0"
   ]
  },
  {
   "cell_type": "code",
   "execution_count": 127,
   "id": "1c769bbd-b36d-4e40-b7f2-1243363feb3b",
   "metadata": {},
   "outputs": [
    {
     "data": {
      "text/plain": [
       "0    -1.080000e+08\n",
       "1     1.962792e+08\n",
       "2     8.879500e+07\n",
       "3    -2.979612e+07\n",
       "4    -1.355200e+08\n",
       "5     4.063920e+07\n",
       "6    -1.894848e+08\n",
       "7     2.047000e+07\n",
       "8    -1.284605e+08\n",
       "9     1.008000e+07\n",
       "10   -2.508447e+06\n",
       "11    2.199533e+07\n",
       "12   -5.920000e+06\n",
       "13   -7.312500e+07\n",
       "14   -9.380000e+06\n",
       "15   -3.196851e+07\n",
       "16    6.526196e+06\n",
       "17   -7.905000e+07\n",
       "18   -4.321162e+07\n",
       "19   -5.703656e+07\n",
       "20   -5.778000e+07\n",
       "21   -9.316000e+07\n",
       "22   -1.025829e+07\n",
       "23   -9.427642e+07\n",
       "dtype: float64"
      ]
     },
     "execution_count": 127,
     "metadata": {},
     "output_type": "execute_result"
    }
   ],
   "source": [
    "(theta1 * mileage + theta0 - price)"
   ]
  },
  {
   "cell_type": "code",
   "execution_count": 130,
   "id": "eff1b814-d55c-4822-93a4-5985d5dda073",
   "metadata": {},
   "outputs": [
    {
     "data": {
      "text/plain": [
       "0     240000\n",
       "1     139800\n",
       "2     150500\n",
       "3     185530\n",
       "4     176000\n",
       "5     114800\n",
       "6     166800\n",
       "7      89000\n",
       "8     144500\n",
       "9      84000\n",
       "10     82029\n",
       "11     63060\n",
       "12     74000\n",
       "13     97500\n",
       "14     67000\n",
       "15     76025\n",
       "16     48235\n",
       "17     93000\n",
       "18     60949\n",
       "19     65674\n",
       "20     54000\n",
       "21     68500\n",
       "22     22899\n",
       "23     61789\n",
       "Name: km, dtype: int64"
      ]
     },
     "execution_count": 130,
     "metadata": {},
     "output_type": "execute_result"
    }
   ],
   "source": [
    "mileage"
   ]
  },
  {
   "cell_type": "code",
   "execution_count": 142,
   "id": "cf8e6f54-1758-4572-a5af-767f6778421c",
   "metadata": {},
   "outputs": [
    {
     "data": {
      "text/plain": [
       "0     876000000\n",
       "1     531240000\n",
       "2     662200000\n",
       "3     825608500\n",
       "4     924000000\n",
       "5     614180000\n",
       "6     967440000\n",
       "7     533110000\n",
       "8     866855500\n",
       "9     520800000\n",
       "10    524165310\n",
       "11    402953400\n",
       "12    488400000\n",
       "13    663000000\n",
       "14    455600000\n",
       "15    524572500\n",
       "16    332821500\n",
       "17    650070000\n",
       "18    456508010\n",
       "19    496167070\n",
       "20    431460000\n",
       "21    547315000\n",
       "22    182963010\n",
       "23    512230810\n",
       "dtype: int64"
      ]
     },
     "execution_count": 142,
     "metadata": {},
     "output_type": "execute_result"
    }
   ],
   "source": [
    "mileage * price"
   ]
  },
  {
   "cell_type": "code",
   "execution_count": 145,
   "id": "956a6762-bc64-4f39-9053-0b38923ba97a",
   "metadata": {},
   "outputs": [
    {
     "data": {
      "text/plain": [
       "512230810"
      ]
     },
     "execution_count": 145,
     "metadata": {},
     "output_type": "execute_result"
    }
   ],
   "source": [
    "mileage[23] * price[23]"
   ]
  },
  {
   "cell_type": "code",
   "execution_count": null,
   "id": "2d01d14d-10b8-4980-8936-c0659d54e3f0",
   "metadata": {},
   "outputs": [],
   "source": []
  }
 ],
 "metadata": {
  "kernelspec": {
   "display_name": "Python 3 (ipykernel)",
   "language": "python",
   "name": "python3"
  },
  "language_info": {
   "codemirror_mode": {
    "name": "ipython",
    "version": 3
   },
   "file_extension": ".py",
   "mimetype": "text/x-python",
   "name": "python",
   "nbconvert_exporter": "python",
   "pygments_lexer": "ipython3",
   "version": "3.10.12"
  }
 },
 "nbformat": 4,
 "nbformat_minor": 5
}
